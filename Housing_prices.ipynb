{
 "cells": [
  {
   "cell_type": "code",
   "execution_count": 76,
   "id": "0f0a8693",
   "metadata": {},
   "outputs": [],
   "source": [
    "import pandas as pd\n",
    "import numpy as np\n",
    "import tensorflow as tf\n",
    "from tensorflow import keras\n",
    "from sklearn.preprocessing import StandardScaler\n",
    "from sklearn.model_selection import train_test_split\n",
    "import matplotlib.pyplot as plt"
   ]
  },
  {
   "cell_type": "code",
   "execution_count": 4,
   "id": "d89090c4",
   "metadata": {},
   "outputs": [],
   "source": []
  },
  {
   "cell_type": "code",
   "execution_count": 176,
   "id": "bb3e2828",
   "metadata": {},
   "outputs": [],
   "source": [
    "train = pd.read_csv(\"train.csv\")\n",
    "test = pd.read_csv(\"test.csv\")\n",
    "\n",
    "def add_mult_dummy(df, lst_dummies):\n",
    "    '''\n",
    "    df: dataframe to get the dummies from and append the columns to \n",
    "    \n",
    "    lst_dummies: List column names to be converted to dummies as strings\n",
    "    \n",
    "    returns: \n",
    "    dataframe with columns lst_dummies converted to dummy encoding\n",
    "    '''\n",
    "    \n",
    "    for dum in lst_dummies: \n",
    "        if len(df[df[dum].isnull()]) != 0:\n",
    "            df[dum] = df[dum].fillna(\"None\")\n",
    "        \n",
    "        d = pd.get_dummies(df[dum], prefix = dum)\n",
    "        \n",
    "        df = pd.concat([df, d], axis = 1).drop(dum, axis = 1)\n",
    "    \n",
    "    return df\n",
    "\n",
    "\n",
    "def scale_mult(df, lst_norm):\n",
    "    '''\n",
    "    df: dataframe to scale values of \n",
    "    \n",
    "    lst_norm: List of columns to scale\n",
    "    \n",
    "    returns:\n",
    "    dataframe with specified columns normalized\n",
    "    '''\n",
    "    \n",
    "    scaler = StandardScaler()\n",
    "    \n",
    "    for col in lst_norm: \n",
    "        temp = df[col].to_numpy().reshape(-1, 1)\n",
    "        \n",
    "        df[col] = scaler.fit_transform(temp)\n",
    "        \n",
    "    return df\n",
    "\n",
    "train.LotFrontage = train.LotFrontage.fillna(0)\n",
    "test.LotFrontage = test.LotFrontage.fillna(0)\n",
    "\n",
    "test.GarageCars = test.GarageCars.fillna(0).astype(int)\n",
    "test.BsmtFullBath = test.BsmtFullBath.fillna(0).astype(int)\n",
    "test.BsmtHalfBath = test.BsmtHalfBath.fillna(0).astype(int)\n",
    "\n",
    "full = pd.concat([train, test])\n",
    "\n",
    "\n",
    "#TODO: Central air\n",
    "\n",
    "lst_dummies = [\n",
    "    'MSSubClass', 'MSZoning', 'Street', 'Alley', 'LotShape', \n",
    "    'LandContour', 'Utilities', 'LotConfig', 'LandSlope', 'Neighborhood',\n",
    "    'Condition1', 'Condition2', 'BldgType', 'HouseStyle', 'OverallQual', \"OverallCond\",\n",
    "    \"RoofStyle\", \"RoofMatl\", 'Exterior1st', 'Exterior2nd', 'MasVnrType',  \"ExterQual\", \n",
    "    \"ExterCond\", 'Foundation', 'BsmtQual', 'BsmtCond', 'BsmtExposure', 'BsmtFinType1', \n",
    "    'BsmtFinType2', 'Heating', \"HeatingQC\", 'Electrical', \"BsmtFullBath\", \"BsmtHalfBath\",\n",
    "    \"FullBath\", \"HalfBath\", \"BedroomAbvGr\", \"KitchenAbvGr\", \"KitchenQual\", \"TotRmsAbvGrd\", \"Functional\",\n",
    "    \"Fireplaces\", \"FireplaceQu\", \"GarageType\", \"GarageFinish\", \"GarageCars\", \"GarageQual\",\n",
    "    'GarageCond', \"PavedDrive\", 'PoolQC', 'Fence', 'MiscFeature', 'MoSold', 'YrSold', 'SaleType', 'SaleCondition'\n",
    "    \n",
    "]\n",
    "\n",
    "lst_scale = [\n",
    "    \"LotFrontage\", 'LotArea', \"YearBuilt\", 'YearRemodAdd', \"MasVnrArea\", \"BsmtFinSF1\", \"BsmtFinSF2\", \"BsmtUnfSF\",\n",
    "    \"TotalBsmtSF\", '1stFlrSF', '2ndFlrSF', 'LowQualFinSF', \"GrLivArea\", \"GarageYrBlt\", 'WoodDeckSF',  'OpenPorchSF',\n",
    "    'EnclosedPorch', '3SsnPorch', 'ScreenPorch', 'PoolArea', 'MiscVal', \"GarageArea\"\n",
    "]\n",
    "\n",
    "\n",
    "full = add_mult_dummy(full, lst_dummies)\n",
    "full = scale_mult(full, lst_scale)\n",
    "\n",
    "train_f = full[:1460]\n",
    "test_f = full[1460:]\n",
    "# train = add_mult_dummy(train, lst_dummies)\n",
    "# train = scale_mult(train, lst_scale)\n",
    "\n",
    "# test = add_mult_dummy(test, lst_dummies)\n",
    "# test = scale_mult(test, lst_scale)"
   ]
  },
  {
   "cell_type": "code",
   "execution_count": 170,
   "id": "92d4af40",
   "metadata": {},
   "outputs": [
    {
     "name": "stdout",
     "output_type": "stream",
     "text": [
      "MSSubClass_150\n",
      "MSZoning_None\n",
      "Utilities_None\n",
      "Exterior1st_None\n",
      "Exterior2nd_None\n",
      "FullBath_4\n",
      "KitchenQual_None\n",
      "TotRmsAbvGrd_13\n",
      "TotRmsAbvGrd_15\n",
      "Functional_None\n",
      "Fireplaces_4\n",
      "GarageCars_5\n",
      "SaleType_None\n"
     ]
    }
   ],
   "source": [
    "for i in test.columns:\n",
    "    if i not in train.columns:\n",
    "        print(i)"
   ]
  },
  {
   "cell_type": "code",
   "execution_count": 171,
   "id": "bbfee2fe",
   "metadata": {},
   "outputs": [
    {
     "name": "stdout",
     "output_type": "stream",
     "text": [
      "SalePrice\n",
      "Utilities_NoSeWa\n",
      "Condition2_RRAe\n",
      "Condition2_RRAn\n",
      "Condition2_RRNn\n",
      "HouseStyle_2.5Fin\n",
      "RoofMatl_ClyTile\n",
      "RoofMatl_Membran\n",
      "RoofMatl_Metal\n",
      "RoofMatl_Roll\n",
      "Exterior1st_ImStucc\n",
      "Exterior1st_Stone\n",
      "Exterior2nd_Other\n",
      "Heating_Floor\n",
      "Heating_OthW\n",
      "Electrical_Mix\n",
      "Electrical_None\n",
      "BedroomAbvGr_8\n",
      "KitchenAbvGr_3\n",
      "TotRmsAbvGrd_2\n",
      "TotRmsAbvGrd_14\n",
      "GarageQual_Ex\n",
      "PoolQC_Fa\n",
      "MiscFeature_TenC\n"
     ]
    }
   ],
   "source": [
    "for i in train.columns: \n",
    "    if i not in test.columns:\n",
    "        print(i)"
   ]
  }
 ],
 "metadata": {
  "kernelspec": {
   "display_name": "Python 3",
   "language": "python",
   "name": "python3"
  },
  "language_info": {
   "codemirror_mode": {
    "name": "ipython",
    "version": 3
   },
   "file_extension": ".py",
   "mimetype": "text/x-python",
   "name": "python",
   "nbconvert_exporter": "python",
   "pygments_lexer": "ipython3",
   "version": "3.8.10"
  }
 },
 "nbformat": 4,
 "nbformat_minor": 5
}
